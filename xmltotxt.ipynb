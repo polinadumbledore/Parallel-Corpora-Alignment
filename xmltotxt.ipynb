{
 "cells": [
  {
   "cell_type": "code",
   "execution_count": 1,
   "metadata": {},
   "outputs": [],
   "source": [
    "import os\n",
    "from xml.etree import ElementTree"
   ]
  },
  {
   "cell_type": "code",
   "execution_count": 5,
   "metadata": {},
   "outputs": [],
   "source": [
    "def process_xml_file(xml_file_path, output_file, rus_to_eng):\n",
    "\n",
    "    '''\n",
    "    This function processes a single xml file into txt \n",
    "    Format: eng text ||| rus text OR rus text ||| eng text\n",
    "    '''\n",
    "    \n",
    "    tree = ElementTree.parse(xml_file_path)\n",
    "    root = tree.getroot()\n",
    "\n",
    "    author_name = os.path.basename(os.path.dirname(xml_file_path))\n",
    "    with open(output_file, 'a', encoding='utf-8') as txt_file:\n",
    "        txt_file.write(f\"### {author_name} - {os.path.basename(xml_file_path)} ###\\n\")\n",
    "\n",
    "        for para in root.findall('.//para'):\n",
    "            eng_text = para.find('./se[@lang=\"eng\"]').text\n",
    "            rus_text = para.find('./se[@lang=\"rus\"]').text\n",
    "            if rus_to_eng == True:\n",
    "                txt_file.write(f\"{rus_text} ||| {eng_text}\\n\")\n",
    "            elif rus_to_eng != True:\n",
    "                txt_file.write(f\"{eng_text} ||| {rus_text}\\n\")"
   ]
  },
  {
   "cell_type": "code",
   "execution_count": 6,
   "metadata": {},
   "outputs": [],
   "source": [
    "def xml_to_txt(main_folder_path, output_txt_file, rus_to_eng = True):\n",
    "\n",
    "    '''\n",
    "    This function goes through every file in every folder and applies process_xml_file to each file.\n",
    "    Then it saves all xml files into one txt.\n",
    "    main_folder_path — path to folder with rus-eng or eng-rus texts \n",
    "    output_txt_file — name of the txt file \n",
    "    rus_to_eng — if true, then it's russian to english corpora. if false, then it's english to russian corpora\n",
    "    '''\n",
    "\n",
    "    with open(output_txt_file, 'w', encoding='utf-8') as txt_file:\n",
    "        pass\n",
    "\n",
    "    for root_folder, _, files in os.walk(main_folder_path):\n",
    "        for file in files:\n",
    "            if file.endswith('.xml'):\n",
    "                xml_file_path = os.path.join(root_folder, file)\n",
    "                process_xml_file(xml_file_path, output_txt_file, rus_to_eng)"
   ]
  },
  {
   "cell_type": "code",
   "execution_count": 8,
   "metadata": {},
   "outputs": [],
   "source": [
    "xml_to_txt('path/to/folder(rus-eng or eng-rus)', 'output/file/name',rus_to_eng = False)\n"
   ]
  }
 ],
 "metadata": {
  "kernelspec": {
   "display_name": "Python 3",
   "language": "python",
   "name": "python3"
  },
  "language_info": {
   "codemirror_mode": {
    "name": "ipython",
    "version": 3
   },
   "file_extension": ".py",
   "mimetype": "text/x-python",
   "name": "python",
   "nbconvert_exporter": "python",
   "pygments_lexer": "ipython3",
   "version": "3.8.5"
  }
 },
 "nbformat": 4,
 "nbformat_minor": 2
}
